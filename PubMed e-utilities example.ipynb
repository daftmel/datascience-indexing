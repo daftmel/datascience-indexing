{
 "cells": [
  {
   "cell_type": "markdown",
   "metadata": {},
   "source": [
    "## PubMed e-search and e-fetch example<br>\n",
    "See also Biopython Tutorial and Cookbook at http://biopython.org/DIST/docs/tutorial/Tutorial.html"
   ]
  },
  {
   "cell_type": "code",
   "execution_count": 29,
   "metadata": {},
   "outputs": [],
   "source": [
    "from Bio import Entrez\n",
    "from Bio import Medline\n",
    "import pandas as pd\n",
    "import time\n",
    "import numpy as np\n",
    "Entrez.email = \"person@nih.gov\" # Replace with your email"
   ]
  },
  {
   "cell_type": "code",
   "execution_count": 30,
   "metadata": {},
   "outputs": [],
   "source": [
    "# return a list of the PMIDs that match your search term\n",
    "\n",
    "def getPubMedIDs(searchstring,maxrecords):\n",
    "    IDlist=[]\n",
    "    if not maxrecords > 100000: #maximum possible = 100,000 records\n",
    "        handle = Entrez.esearch(db=\"pubmed\", term=searchstring, retmax = maxrecords) \n",
    "        result = Entrez.read(handle)\n",
    "        IDlist= result[\"IdList\"]\n",
    "        handle.close()\n",
    "\n",
    "    return IDlist"
   ]
  },
  {
   "cell_type": "code",
   "execution_count": 31,
   "metadata": {},
   "outputs": [],
   "source": [
    "# get MEDLINE data records for each PMID and store in a dataframe\n",
    "# searchPMIDlist was created by getPubMedIDs function\n",
    "# this will only get the first 10000 records from your PMID list\n",
    "\n",
    "def getPubMeddata(searchPMIDlist,dataframename):\n",
    "    \n",
    "    # a trick to remove duplicates from the PMID list using set and list\n",
    "    searchPMIDlist = list(set(searchPMIDlist))\n",
    "    \n",
    "    # if there are no PMIDs in the list, return the same dataframe\n",
    "    if not len(searchPMIDlist):\n",
    "        return dataframename\n",
    "    \n",
    "    # for displaying number of records processed by nearest power of 10\n",
    "    counter=0\n",
    "    marker=int(10**np.floor([np.log10(len(searchPMIDlist))])[0])\n",
    "    \n",
    "    # get data records in MEDLINE format\n",
    "    fetchhandle = Entrez.efetch(db=\"pubmed\", id=searchPMIDlist, rettype=\"medline\", retmode=\"text\")\n",
    "    fetchresult = Medline.parse(fetchhandle)\n",
    "\n",
    "    # parse the dictionary of returned records\n",
    "    for record in fetchresult: \n",
    "        if \"PMID\" not in record: # if there's no PMID in this record (rare), skip it\n",
    "            continue\n",
    "\n",
    "        PT=''\n",
    "        if \"PT\" in record: # if there's a pub type list in this record, store it\n",
    "            PT=record[\"PT\"]\n",
    "        TI=''\n",
    "        if \"TI\" in record: # if there's a title in this record, store it\n",
    "            TI=record[\"TI\"]\n",
    "        AB=''\n",
    "        if \"AB\" in record: # if there's an abstract in this record, store it\n",
    "            AB=record[\"AB\"]\n",
    "\n",
    "        # put the data you found into a new row in the dataframe\n",
    "        # you might want to collect different data for your purposes\n",
    "        dataframename = dataframename.append({'PMID': record[\"PMID\"],\n",
    "                                              'PT': PT,\n",
    "                                              'Title': TI,\n",
    "                                              'Abstract': AB,\n",
    "                                              'AbLength': len(AB)}, ignore_index=True)\n",
    "        \n",
    "        # if we've processed a new batch of records, display number of records processed\n",
    "        counter += 1\n",
    "        if not counter % marker:\n",
    "            print(counter, \"records processed\")\n",
    "            \n",
    "    time.sleep(3) # wait time between repeated fetches\n",
    "    fetchhandle.close()\n",
    "    \n",
    "    return dataframename"
   ]
  },
  {
   "cell_type": "code",
   "execution_count": 32,
   "metadata": {},
   "outputs": [
    {
     "name": "stdout",
     "output_type": "stream",
     "text": [
      "Search string: cognition[Title]\n",
      "Total PMIDs found: 3000\n"
     ]
    }
   ],
   "source": [
    "# Search Example 1\n",
    "myPMIDlist=[]\n",
    "searchstring=\"cognition[Title]\"\n",
    "\n",
    "myPMIDlist = getPubMedIDs(searchstring, 3000)\n",
    "print(\"Search string:\", searchstring)\n",
    "print(\"Total PMIDs found:\",len(myPMIDlist))"
   ]
  },
  {
   "cell_type": "code",
   "execution_count": 33,
   "metadata": {},
   "outputs": [
    {
     "name": "stdout",
     "output_type": "stream",
     "text": [
      "Search string: thermotherapy[Title/Abstract]\n",
      "Total PMIDs found: 2318\n"
     ]
    }
   ],
   "source": [
    "# Search Example 2\n",
    "myPMIDlist=[]\n",
    "searchstring=\"thermotherapy[Title/Abstract]\"\n",
    "\n",
    "myPMIDlist = getPubMedIDs(searchstring, 3000)\n",
    "print(\"Search string:\", searchstring)\n",
    "print(\"Total PMIDs found:\",len(myPMIDlist))"
   ]
  },
  {
   "cell_type": "code",
   "execution_count": 34,
   "metadata": {},
   "outputs": [
    {
     "name": "stdout",
     "output_type": "stream",
     "text": [
      "Search string: PNAS[ta] AND 97[vi]\n",
      "Total PMIDs found: 2651\n"
     ]
    }
   ],
   "source": [
    "# Search Example 3\n",
    "myPMIDlist=[]\n",
    "searchstring='PNAS[ta] AND 97[vi]'\n",
    "\n",
    "myPMIDlist = getPubMedIDs(searchstring, 3000)\n",
    "print(\"Search string:\", searchstring)\n",
    "print(\"Total PMIDs found:\",len(myPMIDlist))"
   ]
  },
  {
   "cell_type": "code",
   "execution_count": 35,
   "metadata": {},
   "outputs": [
    {
     "name": "stdout",
     "output_type": "stream",
     "text": [
      "Search string: \"mitochondrial dynamics\"[Title]\n",
      "Total PMIDs found: 712\n"
     ]
    }
   ],
   "source": [
    "# Search Example 4\n",
    "myPMIDlist=[]\n",
    "searchstring='\"mitochondrial dynamics\"[Title]'\n",
    "\n",
    "myPMIDlist = getPubMedIDs(searchstring, 3000)\n",
    "print(\"Search string:\", searchstring)\n",
    "print(\"Total PMIDs found:\",len(myPMIDlist))"
   ]
  },
  {
   "cell_type": "code",
   "execution_count": 36,
   "metadata": {},
   "outputs": [],
   "source": [
    "# initialize your dataframe for the citation record data\n",
    "# you might want to collect different data for your purposes\n",
    "\n",
    "columnlist=['PMID', 'PT', 'Title', 'Abstract','AbLength']\n",
    "mytable = pd.DataFrame(columns=columnlist, index=None)"
   ]
  },
  {
   "cell_type": "code",
   "execution_count": 37,
   "metadata": {},
   "outputs": [
    {
     "name": "stdout",
     "output_type": "stream",
     "text": [
      "100 records processed\n",
      "200 records processed\n",
      "300 records processed\n",
      "400 records processed\n",
      "500 records processed\n",
      "600 records processed\n",
      "700 records processed\n",
      "Record Table Length: 712\n"
     ]
    },
    {
     "data": {
      "text/html": [
       "<div>\n",
       "<style scoped>\n",
       "    .dataframe tbody tr th:only-of-type {\n",
       "        vertical-align: middle;\n",
       "    }\n",
       "\n",
       "    .dataframe tbody tr th {\n",
       "        vertical-align: top;\n",
       "    }\n",
       "\n",
       "    .dataframe thead th {\n",
       "        text-align: right;\n",
       "    }\n",
       "</style>\n",
       "<table border=\"1\" class=\"dataframe\">\n",
       "  <thead>\n",
       "    <tr style=\"text-align: right;\">\n",
       "      <th></th>\n",
       "      <th>PMID</th>\n",
       "      <th>PT</th>\n",
       "      <th>Title</th>\n",
       "      <th>Abstract</th>\n",
       "      <th>AbLength</th>\n",
       "    </tr>\n",
       "  </thead>\n",
       "  <tbody>\n",
       "    <tr>\n",
       "      <th>0</th>\n",
       "      <td>19703656</td>\n",
       "      <td>[Journal Article, Research Support, N.I.H., Ex...</td>\n",
       "      <td>From mitochondrial dynamics to arrhythmias.</td>\n",
       "      <td>The reactive oxygen species (ROS)-dependent mi...</td>\n",
       "      <td>1440</td>\n",
       "    </tr>\n",
       "    <tr>\n",
       "      <th>1</th>\n",
       "      <td>20875628</td>\n",
       "      <td>[Journal Article, Research Support, Non-U.S. G...</td>\n",
       "      <td>Mitochondrial dynamics.</td>\n",
       "      <td>Mitochondrial dynamics is a key feature for th...</td>\n",
       "      <td>1030</td>\n",
       "    </tr>\n",
       "    <tr>\n",
       "      <th>2</th>\n",
       "      <td>21936845</td>\n",
       "      <td>[Journal Article, Research Support, Non-U.S. G...</td>\n",
       "      <td>Mitochondrial dynamics in yeast cell death and...</td>\n",
       "      <td>Mitochondria play crucial roles in programmed ...</td>\n",
       "      <td>1081</td>\n",
       "    </tr>\n",
       "    <tr>\n",
       "      <th>3</th>\n",
       "      <td>24654596</td>\n",
       "      <td>[Journal Article, Research Support, N.I.H., Ex...</td>\n",
       "      <td>Mitochondrial dynamics: biology and therapy in...</td>\n",
       "      <td>INTRODUCTION: Lung cancer mortality rates rema...</td>\n",
       "      <td>1429</td>\n",
       "    </tr>\n",
       "    <tr>\n",
       "      <th>4</th>\n",
       "      <td>19426874</td>\n",
       "      <td>[Journal Article, Research Support, N.I.H., Ex...</td>\n",
       "      <td>Monitoring mitochondrial dynamics with photoac...</td>\n",
       "      <td>Mitochondria are dynamic organelles that under...</td>\n",
       "      <td>1125</td>\n",
       "    </tr>\n",
       "    <tr>\n",
       "      <th>5</th>\n",
       "      <td>19393022</td>\n",
       "      <td>[Journal Article, Research Support, N.I.H., Ex...</td>\n",
       "      <td>The role of abnormal mitochondrial dynamics in...</td>\n",
       "      <td>Mitochondria play critical roles in neuronal f...</td>\n",
       "      <td>959</td>\n",
       "    </tr>\n",
       "    <tr>\n",
       "      <th>6</th>\n",
       "      <td>15254264</td>\n",
       "      <td>[Journal Article, Research Support, N.I.H., Ex...</td>\n",
       "      <td>Importance of mitochondrial dynamics during me...</td>\n",
       "      <td>Opposing fission and fusion events maintain th...</td>\n",
       "      <td>1484</td>\n",
       "    </tr>\n",
       "    <tr>\n",
       "      <th>7</th>\n",
       "      <td>24021799</td>\n",
       "      <td>[Journal Article, Research Support, Non-U.S. G...</td>\n",
       "      <td>Manganese induces mitochondrial dynamics impai...</td>\n",
       "      <td>Manganese (Mn) is an essential trace element d...</td>\n",
       "      <td>1340</td>\n",
       "    </tr>\n",
       "    <tr>\n",
       "      <th>8</th>\n",
       "      <td>17145957</td>\n",
       "      <td>[Journal Article, Research Support, Non-U.S. G...</td>\n",
       "      <td>Orchestration of lymphocyte chemotaxis by mito...</td>\n",
       "      <td>Lymphocyte traffic is required to maintain hom...</td>\n",
       "      <td>832</td>\n",
       "    </tr>\n",
       "    <tr>\n",
       "      <th>9</th>\n",
       "      <td>25652199</td>\n",
       "      <td>[Journal Article, Research Support, N.I.H., Ex...</td>\n",
       "      <td>New therapeutics to modulate mitochondrial dyn...</td>\n",
       "      <td>The processes that control the number and shap...</td>\n",
       "      <td>438</td>\n",
       "    </tr>\n",
       "  </tbody>\n",
       "</table>\n",
       "</div>"
      ],
      "text/plain": [
       "       PMID                                                 PT  \\\n",
       "0  19703656  [Journal Article, Research Support, N.I.H., Ex...   \n",
       "1  20875628  [Journal Article, Research Support, Non-U.S. G...   \n",
       "2  21936845  [Journal Article, Research Support, Non-U.S. G...   \n",
       "3  24654596  [Journal Article, Research Support, N.I.H., Ex...   \n",
       "4  19426874  [Journal Article, Research Support, N.I.H., Ex...   \n",
       "5  19393022  [Journal Article, Research Support, N.I.H., Ex...   \n",
       "6  15254264  [Journal Article, Research Support, N.I.H., Ex...   \n",
       "7  24021799  [Journal Article, Research Support, Non-U.S. G...   \n",
       "8  17145957  [Journal Article, Research Support, Non-U.S. G...   \n",
       "9  25652199  [Journal Article, Research Support, N.I.H., Ex...   \n",
       "\n",
       "                                               Title  \\\n",
       "0        From mitochondrial dynamics to arrhythmias.   \n",
       "1                            Mitochondrial dynamics.   \n",
       "2  Mitochondrial dynamics in yeast cell death and...   \n",
       "3  Mitochondrial dynamics: biology and therapy in...   \n",
       "4  Monitoring mitochondrial dynamics with photoac...   \n",
       "5  The role of abnormal mitochondrial dynamics in...   \n",
       "6  Importance of mitochondrial dynamics during me...   \n",
       "7  Manganese induces mitochondrial dynamics impai...   \n",
       "8  Orchestration of lymphocyte chemotaxis by mito...   \n",
       "9  New therapeutics to modulate mitochondrial dyn...   \n",
       "\n",
       "                                            Abstract AbLength  \n",
       "0  The reactive oxygen species (ROS)-dependent mi...     1440  \n",
       "1  Mitochondrial dynamics is a key feature for th...     1030  \n",
       "2  Mitochondria play crucial roles in programmed ...     1081  \n",
       "3  INTRODUCTION: Lung cancer mortality rates rema...     1429  \n",
       "4  Mitochondria are dynamic organelles that under...     1125  \n",
       "5  Mitochondria play critical roles in neuronal f...      959  \n",
       "6  Opposing fission and fusion events maintain th...     1484  \n",
       "7  Manganese (Mn) is an essential trace element d...     1340  \n",
       "8  Lymphocyte traffic is required to maintain hom...      832  \n",
       "9  The processes that control the number and shap...      438  "
      ]
     },
     "execution_count": 37,
     "metadata": {},
     "output_type": "execute_result"
    }
   ],
   "source": [
    "# Fetch Example\n",
    "\n",
    "mytable = getPubMeddata(myPMIDlist, mytable) # will only get the first 10000 records from your PMID list\n",
    "print('Record Table Length:',len(mytable))\n",
    "mytable.head(10)"
   ]
  }
 ],
 "metadata": {
  "kernelspec": {
   "display_name": "Python 3",
   "language": "python",
   "name": "python3"
  },
  "language_info": {
   "codemirror_mode": {
    "name": "ipython",
    "version": 3
   },
   "file_extension": ".py",
   "mimetype": "text/x-python",
   "name": "python",
   "nbconvert_exporter": "python",
   "pygments_lexer": "ipython3",
   "version": "3.7.3"
  }
 },
 "nbformat": 4,
 "nbformat_minor": 2
}
